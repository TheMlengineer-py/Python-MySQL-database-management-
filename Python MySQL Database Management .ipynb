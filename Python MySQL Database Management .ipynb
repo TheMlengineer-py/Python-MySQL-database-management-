{
 "cells": [
  {
   "cell_type": "markdown",
   "id": "47cef1c2",
   "metadata": {},
   "source": [
    "# Creating a Database"
   ]
  },
  {
   "cell_type": "code",
   "execution_count": 1,
   "id": "f781076a",
   "metadata": {},
   "outputs": [],
   "source": [
    "#create a database in MySQL, using the \"CREATE DATABASE\" statement\n",
    "import mysql.connector\n",
    "\n",
    "mydb = mysql.connector.connect(\n",
    "  host=\"#####\",\n",
    "  user=\"#####\",\n",
    "  password=\"#####\",\n",
    ")\n",
    "\n",
    "mycursor = mydb.cursor()\n",
    "\n",
    "mycursor.execute(\"CREATE DATABASE clientsdatabase\")  # set database name to clientsdatabase"
   ]
  },
  {
   "cell_type": "markdown",
   "id": "48afcdc4",
   "metadata": {},
   "source": [
    "# Check if Database Exists"
   ]
  },
  {
   "cell_type": "code",
   "execution_count": 2,
   "id": "6836f0ea",
   "metadata": {},
   "outputs": [
    {
     "name": "stdout",
     "output_type": "stream",
     "text": [
      "('clientsdatabase',)\n",
      "('information_schema',)\n",
      "('mysql',)\n",
      "('ourcustomerdatabase',)\n",
      "('performance_schema',)\n",
      "('sakila',)\n",
      "('sys',)\n",
      "('world',)\n"
     ]
    }
   ],
   "source": [
    "#check if a database exist by listing all databases in the system using the \"SHOW DATABASES\" statement:\n",
    "mydb = mysql.connector.connect(\n",
    "  host=\"#####\",\n",
    "  user=\"#####\",\n",
    "  password=\"#####\",\n",
    ")\n",
    "\n",
    "mycursor = mydb.cursor()\n",
    "\n",
    "mycursor.execute(\"SHOW DATABASES\")\n",
    "\n",
    "for x in mycursor:\n",
    "    print(x)"
   ]
  },
  {
   "cell_type": "markdown",
   "id": "27387420",
   "metadata": {},
   "source": [
    "# Creating a Table"
   ]
  },
  {
   "cell_type": "code",
   "execution_count": 3,
   "id": "2ff06e66",
   "metadata": {},
   "outputs": [],
   "source": [
    "#create a table in MySQL, use the \"CREATE TABLE\" statement.\n",
    "mydb = mysql.connector.connect(\n",
    "  host=\"#####\",\n",
    "  user=\"#####\",\n",
    "  password=\"#####\",\n",
    "  database=\"clientsdatabase\"\n",
    ")\n",
    "\n",
    "mycursor = mydb.cursor()\n",
    "\n",
    "mycursor.execute(\"CREATE TABLE customers (name VARCHAR(255), address VARCHAR(255))\")"
   ]
  },
  {
   "cell_type": "markdown",
   "id": "d307ab47",
   "metadata": {},
   "source": [
    "# Check if Table Exists"
   ]
  },
  {
   "cell_type": "code",
   "execution_count": 4,
   "id": "a8da5ae3",
   "metadata": {},
   "outputs": [
    {
     "name": "stdout",
     "output_type": "stream",
     "text": [
      "('customers',)\n"
     ]
    }
   ],
   "source": [
    "# check if a table exist by listing all tables in the database with the \"SHOW TABLES\" statement:\n",
    "mydb = mysql.connector.connect(\n",
    "  host=\"#####\",\n",
    "  user=\"#####\",\n",
    "  password=\"#####\",\n",
    "  database=\"clientsdatabase\"\n",
    ")\n",
    "\n",
    "mycursor = mydb.cursor()\n",
    "\n",
    "mycursor.execute(\"SHOW TABLES\")\n",
    "\n",
    "for x in mycursor:\n",
    "  print(x)"
   ]
  },
  {
   "cell_type": "markdown",
   "id": "9cc5fa4f",
   "metadata": {},
   "source": [
    "# Create primary key"
   ]
  },
  {
   "cell_type": "code",
   "execution_count": 5,
   "id": "cb8d3dde",
   "metadata": {},
   "outputs": [],
   "source": [
    "# create a column with a unique key for each record.\n",
    "#defining a PRIMARY KEY, use the statement \"INT AUTO_INCREMENT PRIMARY KEY\" which will insert a unique number for each record. Starting at 1, and increased by one for each record.\n",
    "#If the table already exists, use the ALTER TABLE keyword:\n",
    "\n",
    "mydb = mysql.connector.connect(\n",
    "  host=\"#####\",\n",
    "  user=\"#####\",\n",
    "  password=\"#####\",\n",
    "  database=\"clientsdatabase\"\n",
    ")\n",
    "\n",
    "mycursor = mydb.cursor()\n",
    "\n",
    "mycursor.execute(\"ALTER TABLE customers ADD COLUMN id INT AUTO_INCREMENT PRIMARY KEY\")"
   ]
  },
  {
   "cell_type": "markdown",
   "id": "69087db3",
   "metadata": {},
   "source": [
    "# Insert Into Table"
   ]
  },
  {
   "cell_type": "code",
   "execution_count": 6,
   "id": "e0d2937f",
   "metadata": {},
   "outputs": [
    {
     "name": "stdout",
     "output_type": "stream",
     "text": [
      "1 record inserted.\n"
     ]
    }
   ],
   "source": [
    "#fill table in MySQL, using the \"INSERT INTO\" statement\n",
    "mydb = mysql.connector.connect(\n",
    "  host=\"#####\",\n",
    "  user=\"#####\",\n",
    "  password=\"#####\",\n",
    "  database=\"clientsdatabase\"\n",
    ")\n",
    "\n",
    "mycursor = mydb.cursor()\n",
    "\n",
    "sql = \"INSERT INTO customers (name, address) VALUES (%s, %s)\"\n",
    "val = (\"Alex\", \"74 Mayfield\")\n",
    "mycursor.execute(sql, val)\n",
    "\n",
    "mydb.commit() #mydb.commit() is required to make the changes, otherwise no changes are made to the table\n",
    "\n",
    "print(mycursor.rowcount, \"record inserted.\")"
   ]
  },
  {
   "cell_type": "markdown",
   "id": "6c439bb3",
   "metadata": {},
   "source": [
    "# Insert Multiple Rows"
   ]
  },
  {
   "cell_type": "code",
   "execution_count": 7,
   "id": "76529cc3",
   "metadata": {},
   "outputs": [
    {
     "name": "stdout",
     "output_type": "stream",
     "text": [
      "13 was inserted.\n"
     ]
    }
   ],
   "source": [
    "#insert multiple rows into a table, using the executemany() method.\n",
    "\n",
    "mydb = mysql.connector.connect(\n",
    "  host=\"#####\",\n",
    "  user=\"#####\",\n",
    "  password=\"#####\",\n",
    "  database=\"clientsdatabase\"\n",
    ")\n",
    "\n",
    "mycursor = mydb.cursor()\n",
    "\n",
    "sql = \"INSERT INTO customers (name, address) VALUES (%s, %s)\"\n",
    "val = [\n",
    "  ('Alan', 'MkM st 6'),\n",
    "  ('Maxwell', 'Ring st 200'),\n",
    "  ('Mandy', 'spring avenue 87'),\n",
    "  ('Michelle', 'spring bank 889'),\n",
    "  ('Sandra', 'henry way 10'),\n",
    "  ('Natalie', 'Pearson 100'),\n",
    "  ('Richardson', 'RedSky st 391'),\n",
    "  ('Sussy', 'Two way 198'),\n",
    "  ('Vic', 'Grey st 002'),\n",
    "  ('Benjamin', 'Park ave 538'),\n",
    "  ('Willsmith', 'City center 854'),\n",
    "  ('Chucky', 'Beverley Road 389'),\n",
    "  ('Viera', 'Sidney st 1703')\n",
    "]\n",
    "\n",
    "mycursor.executemany(sql, val) #the executemany() method is a list of tuples, containing the data to be inserted:\n",
    "\n",
    "mydb.commit() #mydb.commit() is required to make the changes, otherwise no changes are made to the table\n",
    "\n",
    "print(mycursor.rowcount, \"was inserted.\")"
   ]
  },
  {
   "cell_type": "markdown",
   "id": "772f6880",
   "metadata": {},
   "source": [
    "# Get Inserted ID"
   ]
  },
  {
   "cell_type": "code",
   "execution_count": 8,
   "id": "c62f5bb5",
   "metadata": {},
   "outputs": [
    {
     "name": "stdout",
     "output_type": "stream",
     "text": [
      "1 record inserted, ID: 15\n"
     ]
    }
   ],
   "source": [
    "#get the id of the row inserted by asking the cursor object.\n",
    "\n",
    "mydb = mysql.connector.connect(\n",
    "  host=\"#####\",\n",
    "  user=\"#####\",\n",
    "  password=\"#####\",\n",
    "  database=\"clientsdatabase\"\n",
    ")\n",
    "\n",
    "mycursor = mydb.cursor()\n",
    "\n",
    "sql = \"INSERT INTO customers (name, address) VALUES (%s, %s)\"\n",
    "val = (\"Alan\", \"MkM st 6\")\n",
    "mycursor.execute(sql, val)\n",
    "\n",
    "mydb.commit() #mydb.commit() is required to make the changes, otherwise no changes are made to the table\n",
    "\n",
    "print(\"1 record inserted, ID:\", mycursor.lastrowid)"
   ]
  },
  {
   "cell_type": "markdown",
   "id": "5a767214",
   "metadata": {},
   "source": [
    "# Select From a Table"
   ]
  },
  {
   "cell_type": "code",
   "execution_count": 9,
   "id": "33f0c8a4",
   "metadata": {},
   "outputs": [
    {
     "name": "stdout",
     "output_type": "stream",
     "text": [
      "('Alex', '74 Mayfield', 1)\n",
      "('Alan', 'MkM st 6', 2)\n",
      "('Maxwell', 'Ring st 200', 3)\n",
      "('Mandy', 'spring avenue 87', 4)\n",
      "('Michelle', 'spring bank 889', 5)\n",
      "('Sandra', 'henry way 10', 6)\n",
      "('Natalie', 'Pearson 100', 7)\n",
      "('Richardson', 'RedSky st 391', 8)\n",
      "('Sussy', 'Two way 198', 9)\n",
      "('Vic', 'Grey st 002', 10)\n",
      "('Benjamin', 'Park ave 538', 11)\n",
      "('Willsmith', 'City center 854', 12)\n",
      "('Chucky', 'Beverley Road 389', 13)\n",
      "('Viera', 'Sidney st 1703', 14)\n",
      "('Alan', 'MkM st 6', 15)\n"
     ]
    }
   ],
   "source": [
    "#To select from a table in MySQL, use the \"SELECT\" statement:\n",
    "mydb = mysql.connector.connect(\n",
    "  host=\"#####\",\n",
    "  user=\"#####\",\n",
    "  password=\"#####\",\n",
    "  database=\"clientsdatabase\"\n",
    ")\n",
    "\n",
    "mycursor = mydb.cursor()\n",
    "\n",
    "mycursor.execute(\"SELECT * FROM customers\")\n",
    "\n",
    "myresult = mycursor.fetchall() #use the fetchall() method, which fetches all rows from the last executed statement.\n",
    "\n",
    "for x in myresult:\n",
    "    print(x)"
   ]
  },
  {
   "cell_type": "markdown",
   "id": "bb63803c",
   "metadata": {},
   "source": [
    "# Selecting Columns"
   ]
  },
  {
   "cell_type": "code",
   "execution_count": 10,
   "id": "f0abf9af",
   "metadata": {},
   "outputs": [
    {
     "name": "stdout",
     "output_type": "stream",
     "text": [
      "('Alex', '74 Mayfield')\n",
      "('Alan', 'MkM st 6')\n",
      "('Maxwell', 'Ring st 200')\n",
      "('Mandy', 'spring avenue 87')\n",
      "('Michelle', 'spring bank 889')\n",
      "('Sandra', 'henry way 10')\n",
      "('Natalie', 'Pearson 100')\n",
      "('Richardson', 'RedSky st 391')\n",
      "('Sussy', 'Two way 198')\n",
      "('Vic', 'Grey st 002')\n",
      "('Benjamin', 'Park ave 538')\n",
      "('Willsmith', 'City center 854')\n",
      "('Chucky', 'Beverley Road 389')\n",
      "('Viera', 'Sidney st 1703')\n",
      "('Alan', 'MkM st 6')\n"
     ]
    }
   ],
   "source": [
    "#select only some of the columns in a table, use the \"SELECT\" statement followed by the column name(s):\n",
    "\n",
    "mydb = mysql.connector.connect(\n",
    "  host=\"#####\",\n",
    "  user=\"#####\",\n",
    "  password=\"#####\",\n",
    "  database=\"clientsdatabase\"\n",
    ")\n",
    "\n",
    "mycursor = mydb.cursor()\n",
    "\n",
    "mycursor.execute(\"SELECT name, address FROM customers\")\n",
    "\n",
    "myresult = mycursor.fetchall() #use the fetchall() method, which fetches all rows from the last executed statement.\n",
    "\n",
    "for x in myresult:\n",
    "    print(x)"
   ]
  },
  {
   "cell_type": "markdown",
   "id": "2d298bdb",
   "metadata": {},
   "source": [
    "# Using the fetchone() Method"
   ]
  },
  {
   "cell_type": "code",
   "execution_count": 11,
   "id": "5326839a",
   "metadata": {},
   "outputs": [
    {
     "name": "stdout",
     "output_type": "stream",
     "text": [
      "('Alex', '74 Mayfield', 1)\n"
     ]
    }
   ],
   "source": [
    "#If interested in one row, use the fetchone() method.\n",
    "\n",
    "mydb = mysql.connector.connect(\n",
    "  host=\"#####\",\n",
    "  user=\"#####\",\n",
    "  password=\"#####\",\n",
    "  database=\"clientsdatabase\"\n",
    ")\n",
    "\n",
    "mycursor = mydb.cursor()\n",
    "\n",
    "mycursor.execute(\"SELECT * FROM customers\")\n",
    "\n",
    "myresult = mycursor.fetchone() #The fetchone() method will return the first row of the result:\n",
    "\n",
    "print(myresult)"
   ]
  },
  {
   "cell_type": "markdown",
   "id": "3b89f963",
   "metadata": {},
   "source": [
    "# Select With a Filter"
   ]
  },
  {
   "cell_type": "code",
   "execution_count": 12,
   "id": "521dda18",
   "metadata": {},
   "outputs": [
    {
     "name": "stdout",
     "output_type": "stream",
     "text": [
      "('Viera', 'Sidney st 1703', 14)\n"
     ]
    }
   ],
   "source": [
    "#When selecting records from a table, filter the selection by using the \"WHERE\" statement:\n",
    "mydb = mysql.connector.connect(\n",
    "  host=\"#####\",\n",
    "  user=\"#####\",\n",
    "  password=\"#####\",\n",
    "  database=\"clientsdatabase\"\n",
    ")\n",
    "\n",
    "mycursor = mydb.cursor()\n",
    "\n",
    "sql = \"SELECT * FROM customers WHERE address ='Sidney st 1703'\"\n",
    "\n",
    "mycursor.execute(sql)\n",
    "\n",
    "myresult = mycursor.fetchall()\n",
    "\n",
    "for x in myresult:\n",
    "    print(x)\n"
   ]
  },
  {
   "cell_type": "markdown",
   "id": "5c2838ce",
   "metadata": {},
   "source": [
    "# Wildcard Characters"
   ]
  },
  {
   "cell_type": "code",
   "execution_count": 13,
   "id": "c8c2fb0c",
   "metadata": {},
   "outputs": [
    {
     "name": "stdout",
     "output_type": "stream",
     "text": [
      "('Alan', 'MkM st 6', 2)\n",
      "('Maxwell', 'Ring st 200', 3)\n",
      "('Richardson', 'RedSky st 391', 8)\n",
      "('Vic', 'Grey st 002', 10)\n",
      "('Viera', 'Sidney st 1703', 14)\n",
      "('Alan', 'MkM st 6', 15)\n"
     ]
    }
   ],
   "source": [
    "#select the records that starts, includes, or ends with a given letter or phrase.\n",
    "#Use the %  to represent wildcard characters:\n",
    "\n",
    "mydb = mysql.connector.connect(\n",
    "  host=\"#####\",\n",
    "  user=\"#####\",\n",
    "  password=\"#####\",\n",
    "  database=\"clientsdatabase\"\n",
    ")\n",
    "\n",
    "mycursor = mydb.cursor()\n",
    "\n",
    "sql = \"SELECT * FROM customers WHERE address LIKE '%st%'\"\n",
    "\n",
    "mycursor.execute(sql)\n",
    "\n",
    "myresult = mycursor.fetchall()\n",
    "\n",
    "for x in myresult:\n",
    "    print(x)"
   ]
  },
  {
   "cell_type": "markdown",
   "id": "cebc34ea",
   "metadata": {},
   "source": [
    "# Prevent SQL Injection"
   ]
  },
  {
   "cell_type": "code",
   "execution_count": 14,
   "id": "205cc794",
   "metadata": {},
   "outputs": [],
   "source": [
    "#When query values are provided by the user, you should escape the values.\n",
    "#This is to prevent SQL injections, which is a common web hacking technique to destroy or misuse your database\n",
    "\n",
    "mydb = mysql.connector.connect(\n",
    "  host=\"#####\",\n",
    "  user=\"#####\",\n",
    "  password=\"#####\",\n",
    "  database=\"clientsdatabase\"\n",
    ")\n",
    "\n",
    "mycursor = mydb.cursor()\n",
    "\n",
    "sql = \"SELECT * FROM customers WHERE address = %s\" #Escape query values by using the placholder %s method:\n",
    "adr = (\"Vic Grey st 002\", )\n",
    "\n",
    "mycursor.execute(sql, adr)\n",
    "\n",
    "myresult = mycursor.fetchall()\n",
    "\n",
    "for x in myresult:\n",
    "    print(x)"
   ]
  },
  {
   "cell_type": "markdown",
   "id": "b355f239",
   "metadata": {},
   "source": [
    "# Sort the Result"
   ]
  },
  {
   "cell_type": "code",
   "execution_count": 15,
   "id": "52c47c97",
   "metadata": {},
   "outputs": [
    {
     "name": "stdout",
     "output_type": "stream",
     "text": [
      "('Alan', 'MkM st 6', 2)\n",
      "('Alan', 'MkM st 6', 15)\n",
      "('Alex', '74 Mayfield', 1)\n",
      "('Benjamin', 'Park ave 538', 11)\n",
      "('Chucky', 'Beverley Road 389', 13)\n",
      "('Mandy', 'spring avenue 87', 4)\n",
      "('Maxwell', 'Ring st 200', 3)\n",
      "('Michelle', 'spring bank 889', 5)\n",
      "('Natalie', 'Pearson 100', 7)\n",
      "('Richardson', 'RedSky st 391', 8)\n",
      "('Sandra', 'henry way 10', 6)\n",
      "('Sussy', 'Two way 198', 9)\n",
      "('Vic', 'Grey st 002', 10)\n",
      "('Viera', 'Sidney st 1703', 14)\n",
      "('Willsmith', 'City center 854', 12)\n"
     ]
    }
   ],
   "source": [
    "#Use the ORDER BY statement to sort the result in ascending or descending order.\n",
    "\n",
    "mydb = mysql.connector.connect(\n",
    "  host=\"#####\",\n",
    "  user=\"#####\",\n",
    "  password=\"#####\",\n",
    "  database=\"clientsdatabase\"\n",
    ")\n",
    "mycursor = mydb.cursor()\n",
    "\n",
    "sql = \"SELECT * FROM customers ORDER BY name\" #The ORDER BY keyword sorts the result ascending by default. To sort the result in descending order, use the DESC keyword.\n",
    "\n",
    "mycursor.execute(sql)\n",
    "\n",
    "myresult = mycursor.fetchall()\n",
    "\n",
    "for x in myresult:\n",
    "    print(x)"
   ]
  },
  {
   "cell_type": "markdown",
   "id": "12668a1b",
   "metadata": {},
   "source": [
    "# ORDER BY DESC "
   ]
  },
  {
   "cell_type": "code",
   "execution_count": 16,
   "id": "6b81a0f9",
   "metadata": {},
   "outputs": [
    {
     "name": "stdout",
     "output_type": "stream",
     "text": [
      "('Willsmith', 'City center 854', 12)\n",
      "('Viera', 'Sidney st 1703', 14)\n",
      "('Vic', 'Grey st 002', 10)\n",
      "('Sussy', 'Two way 198', 9)\n",
      "('Sandra', 'henry way 10', 6)\n",
      "('Richardson', 'RedSky st 391', 8)\n",
      "('Natalie', 'Pearson 100', 7)\n",
      "('Michelle', 'spring bank 889', 5)\n",
      "('Maxwell', 'Ring st 200', 3)\n",
      "('Mandy', 'spring avenue 87', 4)\n",
      "('Chucky', 'Beverley Road 389', 13)\n",
      "('Benjamin', 'Park ave 538', 11)\n",
      "('Alex', '74 Mayfield', 1)\n",
      "('Alan', 'MkM st 6', 2)\n",
      "('Alan', 'MkM st 6', 15)\n"
     ]
    }
   ],
   "source": [
    "mydb = mysql.connector.connect(\n",
    "  host=\"#####\",\n",
    "  user=\"#####\",\n",
    "  password=\"#####\",\n",
    "  database=\"clientsdatabase\"\n",
    ")\n",
    "\n",
    "mycursor = mydb.cursor()\n",
    "\n",
    "sql = \"SELECT * FROM customers ORDER BY name DESC\" #To sort the result in descending order, use the DESC keyword.\n",
    "\n",
    "mycursor.execute(sql)\n",
    "\n",
    "myresult = mycursor.fetchall()\n",
    "\n",
    "for x in myresult:\n",
    "    print(x)"
   ]
  },
  {
   "cell_type": "markdown",
   "id": "db3c515c",
   "metadata": {},
   "source": [
    "# Delete Record"
   ]
  },
  {
   "cell_type": "code",
   "execution_count": 17,
   "id": "e49e6ce6",
   "metadata": {},
   "outputs": [
    {
     "name": "stdout",
     "output_type": "stream",
     "text": [
      "2 record(s) deleted\n"
     ]
    }
   ],
   "source": [
    "#delete records from an existing table by using the \"DELETE FROM\" statement:\n",
    "mydb = mysql.connector.connect(\n",
    "  host=\"#####\",\n",
    "  user=\"#####\",\n",
    "  password=\"#####\",\n",
    "  database=\"clientsdatabase\"\n",
    ")\n",
    "\n",
    "mycursor = mydb.cursor()\n",
    "\n",
    "sql = \"DELETE FROM customers WHERE address = 'MkM st 6'\" #WHERE clause in the DELETE syntax: The WHERE clause specifies which record(s) that should be deleted. If you omit the WHERE clause, all records will be deleted!\n",
    "\n",
    "mycursor.execute(sql)\n",
    "\n",
    "mydb.commit() #mydb.commit() is required to make the changes, otherwise no changes are made to the table\n",
    "\n",
    "\n",
    "print(mycursor.rowcount, \"record(s) deleted\")"
   ]
  },
  {
   "cell_type": "markdown",
   "id": "8e9886fe",
   "metadata": {},
   "source": [
    "# Delete a Table"
   ]
  },
  {
   "cell_type": "code",
   "execution_count": 18,
   "id": "1b54e09a",
   "metadata": {},
   "outputs": [],
   "source": [
    "\n",
    "#mydb = mysql.connector.connect(\n",
    "  #host=\"#####\",\n",
    "  #user=\"####\",\n",
    "  #password=\"#####\",\n",
    "  #database=\"clientsdatabase\"\n",
    "#)\n",
    "\n",
    "#mycursor = mydb.cursor()\n",
    "\n",
    "#sql = \"DROP TABLE customers\"\n",
    "\n",
    "#mycursor.execute(sql)"
   ]
  },
  {
   "cell_type": "markdown",
   "id": "ff5699ff",
   "metadata": {},
   "source": [
    "# Delete table if exist"
   ]
  },
  {
   "cell_type": "code",
   "execution_count": 19,
   "id": "4c4b9e60",
   "metadata": {},
   "outputs": [],
   "source": [
    "#mydb = mysql.connector.connect(\n",
    "  #host=\"#####\",\n",
    "  #user=\"####\",\n",
    "  #password=\"#####\",\n",
    "  #database=\"clientsdatabase\"\n",
    "#)\n",
    "\n",
    "#mycursor = mydb.cursor()\n",
    "\n",
    "#sql = \"DROP TABLE IF EXISTS customers\"\n",
    "\n",
    "#mycursor.execute(sql)"
   ]
  },
  {
   "cell_type": "markdown",
   "id": "373626b6",
   "metadata": {},
   "source": [
    "# Update Table"
   ]
  },
  {
   "cell_type": "code",
   "execution_count": 20,
   "id": "3499298f",
   "metadata": {},
   "outputs": [
    {
     "name": "stdout",
     "output_type": "stream",
     "text": [
      "1 record(s) affected\n"
     ]
    }
   ],
   "source": [
    "#update existing records in a table by using the \"UPDATE\" statement:\n",
    "\n",
    "mydb = mysql.connector.connect(\n",
    "  host=\"#####\",\n",
    "  user=\"#####\",\n",
    "  password=\"#####\",\n",
    "  database=\"clientsdatabase\"\n",
    ")\n",
    "\n",
    "mycursor = mydb.cursor()\n",
    "\n",
    "sql = \"UPDATE customers SET address = 'Pearson Pack 123' WHERE address = 'Pearson 100'\"\n",
    "\n",
    "mycursor.execute(sql)\n",
    "\n",
    "mydb.commit()#mydb.commit() is required to make the changes, otherwise no changes are made to the table\n",
    "\n",
    "\n",
    "print(mycursor.rowcount, \"record(s) affected\")"
   ]
  },
  {
   "cell_type": "markdown",
   "id": "49e7a832",
   "metadata": {},
   "source": [
    "# Prevent SQL Injection"
   ]
  },
  {
   "cell_type": "code",
   "execution_count": 21,
   "id": "a574ef1c",
   "metadata": {},
   "outputs": [
    {
     "name": "stdout",
     "output_type": "stream",
     "text": [
      "1 record(s) affected\n"
     ]
    }
   ],
   "source": [
    "#The mysql.connector module uses the placeholder %s to escape values in the delete statement:\n",
    "mydb = mysql.connector.connect(\n",
    "  host=\"#####\",\n",
    "  user=\"#####\",\n",
    "  password=\"#####\",\n",
    "  database=\"clientsdatabase\"\n",
    ")\n",
    "\n",
    "mycursor = mydb.cursor()\n",
    "\n",
    "sql = \"UPDATE customers SET address = %s WHERE address = %s\"\n",
    "val = (\"Pearson 100\", \"Pearson Pack 123\")\n",
    "\n",
    "mycursor.execute(sql, val)\n",
    "\n",
    "mydb.commit() #mydb.commit() is required to make the changes, otherwise no changes are made to the table\n",
    "\n",
    "print(mycursor.rowcount, \"record(s) affected\")"
   ]
  },
  {
   "cell_type": "markdown",
   "id": "7a12f2fc",
   "metadata": {},
   "source": [
    "# Limit the Result"
   ]
  },
  {
   "cell_type": "code",
   "execution_count": 22,
   "id": "98497f33",
   "metadata": {},
   "outputs": [
    {
     "name": "stdout",
     "output_type": "stream",
     "text": [
      "('Alex', '74 Mayfield', 1)\n",
      "('Maxwell', 'Ring st 200', 3)\n",
      "('Mandy', 'spring avenue 87', 4)\n",
      "('Michelle', 'spring bank 889', 5)\n",
      "('Sandra', 'henry way 10', 6)\n"
     ]
    }
   ],
   "source": [
    "#limit the number of records returned from the query, by using the \"LIMIT\" statement:\n",
    "\n",
    "mydb = mysql.connector.connect(\n",
    "  host=\"#####\",\n",
    "  user=\"#####\",\n",
    "  password=\"#####\",\n",
    "  database=\"clientsdatabase\"\n",
    ")\n",
    "\n",
    "mycursor = mydb.cursor()\n",
    "\n",
    "mycursor.execute(\"SELECT * FROM customers LIMIT 5\")\n",
    "\n",
    "myresult = mycursor.fetchall() #use the fetchall() method, which fetches all rows from the last executed statement.\n",
    "\n",
    "for x in myresult:\n",
    "    print(x)"
   ]
  },
  {
   "cell_type": "markdown",
   "id": "3a955089",
   "metadata": {},
   "source": [
    "# Start From Another Position"
   ]
  },
  {
   "cell_type": "code",
   "execution_count": 23,
   "id": "ccf9a77d",
   "metadata": {},
   "outputs": [
    {
     "name": "stdout",
     "output_type": "stream",
     "text": [
      "('Mandy', 'spring avenue 87', 4)\n",
      "('Michelle', 'spring bank 889', 5)\n",
      "('Sandra', 'henry way 10', 6)\n",
      "('Natalie', 'Pearson 100', 7)\n",
      "('Richardson', 'RedSky st 391', 8)\n"
     ]
    }
   ],
   "source": [
    "#Ito return five records, starting from the second record, you can use the \"OFFSET\" keyword:\n",
    "mydb = mysql.connector.connect(\n",
    "  host=\"#####\",\n",
    "  user=\"#####\",\n",
    "  password=\"#####\",\n",
    "  database=\"clientsdatabase\"\n",
    ")\n",
    "\n",
    "mycursor = mydb.cursor()\n",
    "\n",
    "mycursor.execute(\"SELECT * FROM customers LIMIT 5 OFFSET 2\")\n",
    "\n",
    "myresult = mycursor.fetchall() #use the fetchall() method, which fetches all rows from the last executed statement.\n",
    "\n",
    "for x in myresult:\n",
    "    print(x)"
   ]
  }
 ],
 "metadata": {
  "kernelspec": {
   "display_name": "Python 3 (ipykernel)",
   "language": "python",
   "name": "python3"
  },
  "language_info": {
   "codemirror_mode": {
    "name": "ipython",
    "version": 3
   },
   "file_extension": ".py",
   "mimetype": "text/x-python",
   "name": "python",
   "nbconvert_exporter": "python",
   "pygments_lexer": "ipython3",
   "version": "3.9.7"
  }
 },
 "nbformat": 4,
 "nbformat_minor": 5
}
